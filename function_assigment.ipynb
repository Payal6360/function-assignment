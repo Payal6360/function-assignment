{
  "nbformat": 4,
  "nbformat_minor": 0,
  "metadata": {
    "colab": {
      "provenance": []
    },
    "kernelspec": {
      "name": "python3",
      "display_name": "Python 3"
    },
    "language_info": {
      "name": "python"
    }
  },
  "cells": [
    {
      "cell_type": "markdown",
      "source": [
        "#Function Theory Questions"
      ],
      "metadata": {
        "id": "rRUlouonhb8o"
      }
    },
    {
      "cell_type": "markdown",
      "source": [
        "1. What is the difference between a function and a method in Python?\n",
        "-->A function is a block of code defined using def and can be called independently. A method is like a function but associated with an object (usually a class).\n",
        "Example:\n",
        "\n",
        "\n",
        "def greet(): print(\"Hello\")  # Function  \n",
        "\"hello\".upper()              # Method on string object\n"
      ],
      "metadata": {
        "id": "B--P0w4ihDLK"
      }
    },
    {
      "cell_type": "markdown",
      "source": [
        "2. Explain the concept of function arguments and parameters in Python.\n",
        "-->Parameters are variables in the function definition. Arguments are values passed to the function during a call.\n",
        "Example:\n",
        "\n",
        "\n",
        "def add(a, b):  # a and b are parameters  \n",
        "    return a + b  \n",
        "add(2, 3)       # 2 and 3 are arguments"
      ],
      "metadata": {
        "id": "NgSWKuFVhsTb"
      }
    },
    {
      "cell_type": "markdown",
      "source": [
        "3. What are the different ways to define and call a function in Python?\n",
        "-->Functions are defined using def or lambda, and called using their name followed by parentheses.\n",
        "Example:\n",
        "\n",
        "\n",
        "def square(x): return x*x  \n",
        "print(square(4))  # Using def  \n",
        "\n",
        "# Lambda\n",
        "double = lambda x: x*2  \n",
        "print(double(5))\n"
      ],
      "metadata": {
        "id": "RCiAlXuTiUU7"
      }
    },
    {
      "cell_type": "markdown",
      "source": [
        "4. What is the purpose of the `return` statement in a Python function?\n",
        "-->The return statement exits a function and optionally sends back a value to the caller.\n",
        "Example:\n",
        "\n",
        "def add(a, b):  \n",
        "    return a + b  \n",
        "result = add(2, 3)  # result = 5"
      ],
      "metadata": {
        "id": "BMaZsoz2jA31"
      }
    },
    {
      "cell_type": "markdown",
      "source": [
        "5. What are iterators in Python and how do they differ from iterables?\n",
        "-->Iterable is any object you can loop over (like list, tuple). Iterator is an object with __next__() and __iter__() methods.\n",
        "Example:\n",
        "\n",
        "\n",
        "nums = [1, 2, 3]        # Iterable  \n",
        "it = iter(nums)         # Iterator  \n",
        "print(next(it))"
      ],
      "metadata": {
        "id": "xcLyHud7j9Ah"
      }
    },
    {
      "cell_type": "markdown",
      "source": [
        "6. Explain the concept of generators in Python and how they are defined\n",
        "-->Generators are functions that yield values one at a time using yield keyword. They save memory by producing items lazily.\n",
        "Example:\n",
        "\n",
        "\n",
        "def countdown(n):  \n",
        "    while n > 0:  \n",
        "        yield n  \n",
        "        n -= 1"
      ],
      "metadata": {
        "id": "d-uitObukQ1i"
      }
    },
    {
      "cell_type": "markdown",
      "source": [
        "7. What are the advantages of using generators over regular functions?\n",
        "-->Generators are memory-efficient and useful for large data streams. Unlike lists, they don’t store all items in memory at once.\n",
        "Example:\n",
        "\n",
        "\n",
        "def gen():  \n",
        "    yield from range(1000000)  # Uses less memory than list"
      ],
      "metadata": {
        "id": "hCSEgoyeksHi"
      }
    },
    {
      "cell_type": "markdown",
      "source": [
        "8. What is a lambda function in Python and when is it typically used?\n",
        "-->A lambda is a small anonymous function used for short tasks without naming it.\n",
        "Example:\n",
        "\n",
        "\n",
        "add = lambda x, y: x + y  \n",
        "print(add(3, 5))  # Output: 8"
      ],
      "metadata": {
        "id": "G_Uq2MmBk903"
      }
    },
    {
      "cell_type": "markdown",
      "source": [
        "9. Explain the purpose and usage of the `map()` function in Python.\n",
        "-->map() applies a function to all items in an iterable.\n",
        "Example:\n",
        "\n",
        "t\n",
        "nums = [1, 2, 3]  \n",
        "squared = list(map(lambda x: x*x, nums))  \n",
        "print(squared)  # [1, 4, 9]"
      ],
      "metadata": {
        "id": "N8y54UrclrBy"
      }
    },
    {
      "cell_type": "markdown",
      "source": [
        "10. What is the difference between `map()`, `reduce()`, and `filter()` functions in Python?\n",
        "--> map() applies a function to all items.\n",
        "\n",
        "filter() selects items matching a condition.\n",
        "\n",
        "reduce() aggregates values into one result.\n",
        "\n",
        "Example:\n",
        "\n",
        "\n",
        "from functools import reduce  \n",
        "nums = [1, 2, 3, 4]  \n",
        "print(list(map(lambda x: x*2, nums)))     # [2, 4, 6, 8]  \n",
        "print(list(filter(lambda x: x % 2 == 0, nums)))  # [2, 4]  \n",
        "print(reduce(lambda x, y: x + y, nums))   # 10"
      ],
      "metadata": {
        "id": "wY3oPVAFmCWk"
      }
    },
    {
      "cell_type": "markdown",
      "source": [
        "11. Using pen & Paper write the internal mechanism for sum operation using  reduce function on this given\n",
        "list:[47,11,42,13];\n",
        "-->Using pen and paper logic, reduce() applies a rolling computation:\n",
        "\n",
        "Step 1: 47 + 11 = 58\n",
        "Step 2: 58 + 42 = 100\n",
        "Step 3: 100 + 13 = 113\n",
        "\n",
        "Python Code:\n",
        "\n",
        "from functools import reduce  \n",
        "nums = [47, 11, 42, 13]  \n",
        "total = reduce(lambda x, y: x + y, nums)  \n",
        "print(total)  # Output: 113"
      ],
      "metadata": {
        "id": "wC22qq6FmaGJ"
      }
    },
    {
      "cell_type": "code",
      "source": [],
      "metadata": {
        "id": "SJCk677UmmZJ"
      },
      "execution_count": null,
      "outputs": []
    },
    {
      "cell_type": "markdown",
      "source": [
        "#Practical question\n"
      ],
      "metadata": {
        "id": "G41tMWRGmplZ"
      }
    },
    {
      "cell_type": "markdown",
      "source": [
        "1. Write a Python function that takes a list of numbers as input and returns the sum of all even numbers in\n",
        "the list"
      ],
      "metadata": {
        "id": "Gw_r1c2pm6Yv"
      }
    },
    {
      "cell_type": "code",
      "source": [
        "def sum_even_numbers(numbers):\n",
        "    even_sum = 0\n",
        "    for num in numbers:\n",
        "        if num % 2 == 0:\n",
        "            even_sum += num\n",
        "    return even_sum\n",
        "\n",
        "# Example usage:\n",
        "my_list = [1, 2, 3, 4, 5, 6]\n",
        "result = sum_even_numbers(my_list)\n",
        "print(\"Sum of even numbers:\", result)"
      ],
      "metadata": {
        "colab": {
          "base_uri": "https://localhost:8080/"
        },
        "id": "iV9LwPrxm39K",
        "outputId": "bac7b74c-9159-4344-9959-8a4d464e5192"
      },
      "execution_count": 2,
      "outputs": [
        {
          "output_type": "stream",
          "name": "stdout",
          "text": [
            "Sum of even numbers: 12\n"
          ]
        }
      ]
    },
    {
      "cell_type": "code",
      "source": [],
      "metadata": {
        "id": "4thS3T2vnnKm"
      },
      "execution_count": null,
      "outputs": []
    },
    {
      "cell_type": "markdown",
      "source": [
        "2. Create a Python function that accepts a string and returns the reverse of that string"
      ],
      "metadata": {
        "id": "7k-i7QZYntRD"
      }
    },
    {
      "cell_type": "code",
      "source": [
        "def reverse_string(text):\n",
        "    return text[::-1]\n",
        "\n",
        "# Example usage:\n",
        "input_str = \"hello\"\n",
        "reversed_str = reverse_string(input_str)\n",
        "print(\"Reversed string:\", reversed_str)"
      ],
      "metadata": {
        "colab": {
          "base_uri": "https://localhost:8080/"
        },
        "id": "8thnZYnTn0fT",
        "outputId": "9492935b-450f-4891-c0f4-620106c6b3bf"
      },
      "execution_count": 3,
      "outputs": [
        {
          "output_type": "stream",
          "name": "stdout",
          "text": [
            "Reversed string: olleh\n"
          ]
        }
      ]
    },
    {
      "cell_type": "markdown",
      "source": [
        "3. Implement a Python function that takes a list of integers and returns a new list containing the squares of\n",
        "each number"
      ],
      "metadata": {
        "id": "XjtwWyxOoCA5"
      }
    },
    {
      "cell_type": "code",
      "source": [
        "def square_numbers(numbers):\n",
        "    squared_list = []\n",
        "    for num in numbers:\n",
        "        squared_list.append(num ** 2)\n",
        "    return squared_list\n",
        "\n",
        "# Example usage:\n",
        "my_list = [1, 2, 3, 4]\n",
        "result = square_numbers(my_list)\n",
        "print(\"Squared numbers:\", result)"
      ],
      "metadata": {
        "colab": {
          "base_uri": "https://localhost:8080/"
        },
        "id": "33Wuf4rHoM-A",
        "outputId": "bedf2cfd-f898-40a3-8a3b-d1065c809b7a"
      },
      "execution_count": 4,
      "outputs": [
        {
          "output_type": "stream",
          "name": "stdout",
          "text": [
            "Squared numbers: [1, 4, 9, 16]\n"
          ]
        }
      ]
    },
    {
      "cell_type": "markdown",
      "source": [
        "4. Write a Python function that checks if a given number is prime or not from 1 to 200"
      ],
      "metadata": {
        "id": "zQqi8_7Noi-y"
      }
    },
    {
      "cell_type": "code",
      "source": [
        "def is_prime(n):\n",
        "    if n < 2:\n",
        "        return False\n",
        "    for i in range(2, int(n ** 0.5) + 1):\n",
        "        if n % i == 0:\n",
        "            return False\n",
        "    return True\n",
        "\n",
        "# Example usage:\n",
        "number = 37\n",
        "if 1 <= number <= 200:\n",
        "    print(f\"{number} is prime:\", is_prime(number))\n",
        "else:\n",
        "    print(\"Number is out of range (1 to 200)\")"
      ],
      "metadata": {
        "colab": {
          "base_uri": "https://localhost:8080/"
        },
        "id": "UCO3KD8eolan",
        "outputId": "8b3c5f0c-4b6d-48f2-fb8d-22d93dcadf5a"
      },
      "execution_count": 5,
      "outputs": [
        {
          "output_type": "stream",
          "name": "stdout",
          "text": [
            "37 is prime: True\n"
          ]
        }
      ]
    },
    {
      "cell_type": "markdown",
      "source": [
        "5. Create an iterator class in Python that generates the Fibonacci sequence up to a specified number of\n",
        "terms"
      ],
      "metadata": {
        "id": "_DcQ9dKOo23L"
      }
    },
    {
      "cell_type": "code",
      "source": [
        "class FibonacciIterator:\n",
        "    def __init__(self, max_terms):\n",
        "        self.max_terms = max_terms\n",
        "        self.count = 0\n",
        "        self.a = 0\n",
        "        self.b = 1\n",
        "\n",
        "    def __iter__(self):\n",
        "        return self\n",
        "\n",
        "    def __next__(self):\n",
        "        if self.count >= self.max_terms:\n",
        "            raise StopIteration\n",
        "        if self.count == 0:\n",
        "            self.count += 1\n",
        "            return self.a\n",
        "        elif self.count == 1:\n",
        "            self.count += 1\n",
        "            return self.b\n",
        "        else:\n",
        "            self.a, self.b = self.b, self.a + self.b\n",
        "            self.count += 1\n",
        "            return self.b\n",
        "\n",
        "# Example usage:\n",
        "fib = FibonacciIterator(10)\n",
        "for num in fib:\n",
        "    print(num, end=\" \")\n"
      ],
      "metadata": {
        "colab": {
          "base_uri": "https://localhost:8080/"
        },
        "id": "w4sb8-jvnzYQ",
        "outputId": "86b9b8d2-458e-4c2d-eded-838d61c1fbbf"
      },
      "execution_count": 7,
      "outputs": [
        {
          "output_type": "stream",
          "name": "stdout",
          "text": [
            "0 1 1 2 3 5 8 13 21 34 "
          ]
        }
      ]
    },
    {
      "cell_type": "markdown",
      "source": [
        "6. Write a generator function in Python that yields the powers of 2 up to a given exponent."
      ],
      "metadata": {
        "id": "sekvh6u-p48h"
      }
    },
    {
      "cell_type": "code",
      "source": [
        "def powers_of_two(max_exp):\n",
        "    for exp in range(max_exp + 1):\n",
        "        yield 2 ** exp\n",
        "\n",
        "# Example usage:\n",
        "for value in powers_of_two(5):\n",
        "    print(value)\n"
      ],
      "metadata": {
        "colab": {
          "base_uri": "https://localhost:8080/"
        },
        "id": "E9vfmK6zp10N",
        "outputId": "177db31a-7c7c-4a73-f271-80a4c1efb834"
      },
      "execution_count": 8,
      "outputs": [
        {
          "output_type": "stream",
          "name": "stdout",
          "text": [
            "1\n",
            "2\n",
            "4\n",
            "8\n",
            "16\n",
            "32\n"
          ]
        }
      ]
    },
    {
      "cell_type": "markdown",
      "source": [
        "7. Implement a generator function that reads a file line by line and yields each line as a string.\n"
      ],
      "metadata": {
        "id": "Y8oaWaFLqQBB"
      }
    },
    {
      "cell_type": "code",
      "source": [
        "def read_file_lines(filename):\n",
        "    with open(filename, 'r') as file:\n",
        "        for line in file:\n",
        "            yield line.strip()  # .strip() removes trailing newlines and spaces\n"
      ],
      "metadata": {
        "id": "g1MBJd-xqt9F"
      },
      "execution_count": 16,
      "outputs": []
    },
    {
      "cell_type": "markdown",
      "source": [
        "8. Use a lambda function in Python to sort a list of tuples based on the second element of each tuple."
      ],
      "metadata": {
        "id": "z_YHOcSwrF08"
      }
    },
    {
      "cell_type": "code",
      "source": [],
      "metadata": {
        "id": "lI2EPAnSq-Ce"
      },
      "execution_count": null,
      "outputs": []
    },
    {
      "cell_type": "code",
      "source": [
        "# Sample list of tuples\n",
        "data = [(1, 5), (3, 2), (4, 8), (2, 1)]\n",
        "\n",
        "# Sort by the second element\n",
        "sorted_data = sorted(data, key=lambda x: x[1])\n",
        "\n",
        "print(\"Sorted list:\", sorted_data)\n"
      ],
      "metadata": {
        "colab": {
          "base_uri": "https://localhost:8080/"
        },
        "id": "rVeNzzNFrOBS",
        "outputId": "432a328c-ae57-4681-b086-9ae7f0667555"
      },
      "execution_count": 13,
      "outputs": [
        {
          "output_type": "stream",
          "name": "stdout",
          "text": [
            "Sorted list: [(2, 1), (3, 2), (1, 5), (4, 8)]\n"
          ]
        }
      ]
    },
    {
      "cell_type": "markdown",
      "source": [
        "9. Write a Python program that uses `map()` to convert a list of temperatures from Celsius to Fahrenheit"
      ],
      "metadata": {
        "id": "A2udiHakrVi2"
      }
    },
    {
      "cell_type": "code",
      "source": [
        "# Function to convert Celsius to Fahrenheit\n",
        "def celsius_to_fahrenheit(celsius):\n",
        "    return (celsius * 9/5) + 32\n",
        "\n",
        "# List of temperatures in Celsius\n",
        "celsius_temperatures = [0, 20, 37, 100]\n",
        "\n",
        "# Use map() to apply the conversion function to each item in the list\n",
        "fahrenheit_temperatures = list(map(celsius_to_fahrenheit, celsius_temperatures))\n",
        "\n",
        "print(\"Temperatures in Fahrenheit:\", fahrenheit_temperatures)\n"
      ],
      "metadata": {
        "colab": {
          "base_uri": "https://localhost:8080/"
        },
        "id": "XIfNCMNPrQM-",
        "outputId": "3ab101d7-d2a4-4885-ef07-d63c1fbdc477"
      },
      "execution_count": 14,
      "outputs": [
        {
          "output_type": "stream",
          "name": "stdout",
          "text": [
            "Temperatures in Fahrenheit: [32.0, 68.0, 98.6, 212.0]\n"
          ]
        }
      ]
    },
    {
      "cell_type": "markdown",
      "source": [
        "10. Create a Python program that uses `filter()` to remove all the vowels from a given string."
      ],
      "metadata": {
        "id": "buJF-WAZrlMg"
      }
    },
    {
      "cell_type": "code",
      "source": [
        "# Function to check if a character is not a vowel\n",
        "def is_not_vowel(char):\n",
        "    vowels = \"aeiouAEIOU\"\n",
        "    return char not in vowels\n",
        "\n",
        "# Given string\n",
        "input_string = \"Hello World!\"\n",
        "\n",
        "# Use filter() to remove vowels from the string\n",
        "filtered_string = ''.join(filter(is_not_vowel, input_string))\n",
        "\n",
        "print(\"String without vowels:\", filtered_string)\n"
      ],
      "metadata": {
        "colab": {
          "base_uri": "https://localhost:8080/"
        },
        "id": "ZZx0zaTArnV5",
        "outputId": "83363de9-6c46-48e1-8c5d-57fd232ce024"
      },
      "execution_count": 15,
      "outputs": [
        {
          "output_type": "stream",
          "name": "stdout",
          "text": [
            "String without vowels: Hll Wrld!\n"
          ]
        }
      ]
    }
  ]
}